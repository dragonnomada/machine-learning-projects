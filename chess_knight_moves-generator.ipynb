{
 "metadata": {
  "language_info": {
   "codemirror_mode": {
    "name": "ipython",
    "version": 3
   },
   "file_extension": ".py",
   "mimetype": "text/x-python",
   "name": "python",
   "nbconvert_exporter": "python",
   "pygments_lexer": "ipython3",
   "version": "3.9.0"
  },
  "orig_nbformat": 2,
  "kernelspec": {
   "name": "python3",
   "display_name": "Python 3.9.0 64-bit",
   "metadata": {
    "interpreter": {
     "hash": "63fd5069d213b44bf678585dea6b12cceca9941eaf7f819626cde1f2670de90d"
    }
   }
  }
 },
 "nbformat": 4,
 "nbformat_minor": 2,
 "cells": [
  {
   "source": [
    "# Generador de los movimientos del caballo en una partida de ajedez\n",
    "\n",
    "Alan Badillo Salas dragonnomada123@gmail.com"
   ],
   "cell_type": "markdown",
   "metadata": {}
  },
  {
   "cell_type": "code",
   "execution_count": 26,
   "metadata": {},
   "outputs": [
    {
     "output_type": "execute_result",
     "data": {
      "text/plain": [
       "'t+'"
      ]
     },
     "metadata": {},
     "execution_count": 26
    }
   ],
   "source": [
    "import numpy as np\n",
    "\n",
    "def random_cell():\n",
    "    # x - no existe\n",
    "    # vacía\n",
    "    # p - peón (+ enemigo / * aliado)\n",
    "    # c - caballo (+ enemigo / * aliado)\n",
    "    # a - alfíl (+ enemigo / * aliado)\n",
    "    # t - torre (+ enemigo / * aliado)\n",
    "    # d - dama (+ enemigo / * aliado)\n",
    "    # r - rey (+ enemigo / * aliado)\n",
    "    cells = [\"x\", \"-\", \"p+\", \"p*\", \"c+\", \"c*\", \"a+\", \"a*\", \"t+\", \"t*\", \"d+\", \"d*\", \"r+\", \"r*\"]\n",
    "    np.random.shuffle(cells)\n",
    "    return cells[0]\n",
    "\n",
    "random_cell()"
   ]
  },
  {
   "cell_type": "code",
   "execution_count": 27,
   "metadata": {},
   "outputs": [
    {
     "output_type": "execute_result",
     "data": {
      "text/plain": [
       "['t*', 'r*', 't*', '-', 't+', 'd*', '-', 'r*']"
      ]
     },
     "metadata": {},
     "execution_count": 27
    }
   ],
   "source": [
    "def random_stage():\n",
    "    return [random_cell() for i in range(8)]\n",
    "\n",
    "random_stage()"
   ]
  },
  {
   "cell_type": "code",
   "execution_count": 28,
   "metadata": {},
   "outputs": [
    {
     "output_type": "stream",
     "name": "stdout",
     "text": [
      "['d*', 'd*', 't+', 'p+', 'r*', 'c+', 'p+', 'r*']\n"
     ]
    },
    {
     "output_type": "execute_result",
     "data": {
      "text/plain": [
       "(2, 4, 't+')"
      ]
     },
     "metadata": {},
     "execution_count": 28
    }
   ],
   "source": [
    "def cell_to_value(cell):\n",
    "    if cell[0] == \"x\":\n",
    "        return -1\n",
    "    if cell[0] == \"-\":\n",
    "        return 0\n",
    "    if cell[-1] == \"*\":\n",
    "        return -1\n",
    "    if cell[0] == \"p\":\n",
    "        return 1\n",
    "    if cell[0] == \"c\":\n",
    "        return 2\n",
    "    if cell[0] == \"a\":\n",
    "        return 3\n",
    "    if cell[0] == \"t\":\n",
    "        return 4\n",
    "    if cell[0] == \"d\":\n",
    "        return 5\n",
    "    if cell[0] == \"r\":\n",
    "        return 6\n",
    "\n",
    "def best_cell(stage):\n",
    "    stage_values = list(map(cell_to_value, stage))\n",
    "    # Busca la pieza más valiosa\n",
    "    bp = stage_values[0]\n",
    "    bi = 0\n",
    "\n",
    "    for index, value in enumerate(stage_values):\n",
    "        if value >= bp:\n",
    "            bp = value\n",
    "            bi = index\n",
    "\n",
    "    return bi, bp, stage[bi]\n",
    "\n",
    "stage = random_stage()\n",
    "\n",
    "print(stage)\n",
    "\n",
    "best_cell(stage)"
   ]
  },
  {
   "cell_type": "code",
   "execution_count": 29,
   "metadata": {},
   "outputs": [
    {
     "output_type": "execute_result",
     "data": {
      "text/plain": [
       "'LLD'"
      ]
     },
     "metadata": {},
     "execution_count": 29
    }
   ],
   "source": [
    "def encode_best_cell(t):\n",
    "    bi, bp, s = t\n",
    "    enc = {\n",
    "        0: \"LUU\",\n",
    "        1: \"LLU\",\n",
    "        2: \"LLD\",\n",
    "        3: \"LDD\",\n",
    "        4: \"RDD\",\n",
    "        5: \"RRD\",\n",
    "        6: \"RRU\",\n",
    "        7: \"RUU\",\n",
    "    }\n",
    "    return enc[bi]\n",
    "\n",
    "encode_best_cell(best_cell(stage))"
   ]
  },
  {
   "cell_type": "code",
   "execution_count": 30,
   "metadata": {},
   "outputs": [
    {
     "output_type": "stream",
     "name": "stdout",
     "text": [
      "t* p* a* t+ p* p+ d+ t+ RRU\nc+ c* x x a+ p* t+ d* RRU\na+ - t+ - p* p+ t* r* LLD\n- a+ - r+ p* p* r* p+ LDD\nc+ t* t* c* r* d+ p* x RRD\nc* c+ a* a+ c+ - r* c* LDD\nd+ d+ t+ r* x c+ c* r+ RUU\np+ t* t+ t* d+ p* a+ a+ RDD\np+ p+ p* t+ - r+ t+ r* RRD\np+ c* c* c+ - d+ r+ d+ RRU\n"
     ]
    }
   ],
   "source": [
    "for i in range(10):\n",
    "    stage = random_stage()\n",
    "    label = encode_best_cell(best_cell(stage))\n",
    "    line = \" \".join(stage) + \" \" + label\n",
    "    print(line)"
   ]
  },
  {
   "cell_type": "code",
   "execution_count": 33,
   "metadata": {},
   "outputs": [],
   "source": [
    "f = open(\"knight-moves.txt\", \"w\")\n",
    "\n",
    "for i in range(10000):\n",
    "    stage = random_stage()\n",
    "    label = encode_best_cell(best_cell(stage))\n",
    "    line = \" \".join(stage) + \" \" + label\n",
    "    f.write(line + \"\\n\")\n",
    "\n",
    "f.close()"
   ]
  }
 ]
}